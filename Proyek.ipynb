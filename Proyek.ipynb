{
  "nbformat": 4,
  "nbformat_minor": 0,
  "metadata": {
    "colab": {
      "provenance": [],
      "include_colab_link": true
    },
    "kernelspec": {
      "name": "python3",
      "display_name": "Python 3"
    },
    "language_info": {
      "name": "python"
    }
  },
  "cells": [
    {
      "cell_type": "markdown",
      "metadata": {
        "id": "view-in-github",
        "colab_type": "text"
      },
      "source": [
        "<a href=\"https://colab.research.google.com/github/shintaaulia/Saham/blob/main/Proyek.ipynb\" target=\"_parent\"><img src=\"https://colab.research.google.com/assets/colab-badge.svg\" alt=\"Open In Colab\"/></a>"
      ]
    },
    {
      "cell_type": "code",
      "metadata": {
        "colab": {
          "base_uri": "https://localhost:8080/"
        },
        "id": "8H-K48MPUwGP",
        "outputId": "a6cec5fa-68dd-456f-e610-51b11a48ce98"
      },
      "source": [
        "#SAHAM BBCA\n",
        "import csv\n",
        "import pandas as pd\n",
        "\n",
        "df_bca = pd.read_csv(r'/content/drive/MyDrive/saham/BBCA.JK.csv')\n",
        "ARB = (df_bca['Low']-df_bca['Open'])/df_bca['Open']\n",
        "ARA = (df_bca['High']-df_bca['Open'])/df_bca['Open']\n",
        "shmbca_ = {'Date' : df_bca['Date'],\n",
        "          'Open' : df_bca['Open'],\n",
        "          'High' : df_bca['High'],\n",
        "          'Low'  : df_bca['Low'],\n",
        "          'ARA'  : ARA,\n",
        "          'ARB'  : ARB,\n",
        "          }\n",
        "\n",
        "df_baru_bca = pd.DataFrame(shmbca_, columns= ['Date','Open', 'High', 'Low','ARA','ARB'])\n",
        "shmARBA = df_baru_bca.loc[df_baru_bca['ARB'] < -0.06]\n",
        "shmARAA = df_baru_bca.loc[df_baru_bca['ARA'] > 0.2]\n",
        "print('-'*20)\n",
        "print('Saham yang menyentuh upper limit')\n",
        "print(shmARAA)\n",
        "print('-'*20)\n",
        "print('Saham yang menyentuh lower limit')\n",
        "print(shmARBA)"
      ],
      "execution_count": null,
      "outputs": [
        {
          "output_type": "stream",
          "text": [
            "--------------------\n",
            "Saham yang menyentuh upper limit\n",
            "Empty DataFrame\n",
            "Columns: [Date, Open, High, Low, ARA, ARB]\n",
            "Index: []\n",
            "--------------------\n",
            "Saham yang menyentuh lower limit\n",
            "           Date     Open     High      Low       ARA       ARB\n",
            "2    2020-03-17  27475.0  27525.0  25600.0  0.001820 -0.068244\n",
            "3    2020-03-18  25600.0  26900.0  23825.0  0.050781 -0.069336\n",
            "4    2020-03-19  24975.0  24975.0  23250.0  0.000000 -0.069069\n",
            "6    2020-03-23  23800.0  25000.0  22025.0  0.050420 -0.074580\n",
            "92   2020-08-03  31100.0  31175.0  29125.0  0.002412 -0.063505\n",
            "117  2020-09-10  31100.0  31100.0  29050.0  0.000000 -0.065916\n"
          ],
          "name": "stdout"
        }
      ]
    },
    {
      "cell_type": "code",
      "metadata": {
        "colab": {
          "base_uri": "https://localhost:8080/"
        },
        "id": "D79FePxzkIob",
        "outputId": "5526aac3-a149-4f78-bd6d-3cd1d392530d"
      },
      "source": [
        "print(df_bca)"
      ],
      "execution_count": null,
      "outputs": [
        {
          "output_type": "stream",
          "text": [
            "           Date     Open     High      Low    Close     Adj Close    Volume\n",
            "0    2020-03-13  27800.0  27800.0  27800.0  27800.0  26868.416016         0\n",
            "1    2020-03-16  27800.0  27800.0  27800.0  27800.0  26868.416016         0\n",
            "2    2020-03-17  27475.0  27525.0  25600.0  25600.0  24742.136719  42440000\n",
            "3    2020-03-18  25600.0  26900.0  23825.0  25000.0  24162.244141  36010700\n",
            "4    2020-03-19  24975.0  24975.0  23250.0  23250.0  22470.886719  52883800\n",
            "..          ...      ...      ...      ...      ...           ...       ...\n",
            "234  2021-03-05  33600.0  34625.0  33600.0  34000.0  33529.984375  22374300\n",
            "235  2021-03-08  34750.0  34750.0  33600.0  33600.0  33135.515625  18176600\n",
            "236  2021-03-09  33500.0  33575.0  33000.0  33025.0  32568.462891  27116400\n",
            "237  2021-03-10  33600.0  33600.0  33100.0  33525.0  33061.550781  10060400\n",
            "238  2021-03-12  34375.0  34400.0  33575.0  33825.0  33357.402344  14865600\n",
            "\n",
            "[239 rows x 7 columns]\n"
          ],
          "name": "stdout"
        }
      ]
    },
    {
      "cell_type": "code",
      "metadata": {
        "colab": {
          "base_uri": "https://localhost:8080/"
        },
        "id": "AlaXfsXlh5hP",
        "outputId": "4b93e131-e3a5-4e80-b53d-6d52cc5981b9"
      },
      "source": [
        "#SAHAM BBCA Weekly\n",
        "import csv\n",
        "import pandas as pd\n",
        "\n",
        "df = pd.read_csv(r'/content/drive/MyDrive/saham/BBCA.JK (1).csv')\n",
        "ARB = (df['Low']-df['Open'])/df['Open']\n",
        "ARA = (df['High']-df['Open'])/df['Open']\n",
        "shmbca = {'Date' : df['Date'],\n",
        "          'Open' : df['Open'],\n",
        "          'High' : df['High'],\n",
        "          'Low'  : df['Low'],\n",
        "          'ARA'  : ARA,\n",
        "          'ARB'  : ARB,\n",
        "          }\n",
        "\n",
        "df_baru = pd.DataFrame(shmbca, columns= ['Date','Open', 'High', 'Low','ARA','ARB'])\n",
        "shmARB = df_baru.loc[df_baru['ARB'] < -0.06]\n",
        "shmARA = df_baru.loc[df_baru['ARA'] > 0.2]\n",
        "print('-'*20)\n",
        "print('Saham yang menyentuh upper limit')\n",
        "print(shmARA)\n",
        "print('-'*20)\n",
        "print('Saham yang menyentuh lower limit')\n",
        "print(shmARB)"
      ],
      "execution_count": null,
      "outputs": [
        {
          "output_type": "stream",
          "text": [
            "--------------------\n",
            "Saham yang menyentuh upper limit\n",
            "         Date     Open     High      Low       ARA      ARB\n",
            "2  2020-03-23  23800.0  29475.0  22025.0  0.238445 -0.07458\n",
            "--------------------\n",
            "Saham yang menyentuh lower limit\n",
            "          Date     Open     High      Low       ARA       ARB\n",
            "1   2020-03-16  27800.0  27800.0  21625.0  0.000000 -0.222122\n",
            "2   2020-03-23  23800.0  29475.0  22025.0  0.238445 -0.074580\n",
            "5   2020-04-13  27700.0  28150.0  25925.0  0.016245 -0.064079\n",
            "6   2020-04-20  27150.0  27500.0  24600.0  0.012891 -0.093923\n",
            "9   2020-05-11  26225.0  26700.0  23400.0  0.018112 -0.107722\n",
            "21  2020-08-03  31100.0  31475.0  29125.0  0.012058 -0.063505\n",
            "26  2020-09-07  31675.0  31800.0  28100.0  0.003946 -0.112865\n",
            "27  2020-09-14  30000.0  30575.0  27850.0  0.019167 -0.071667\n",
            "46  2021-01-25  36000.0  36000.0  33525.0  0.000000 -0.068750\n"
          ],
          "name": "stdout"
        }
      ]
    },
    {
      "cell_type": "code",
      "metadata": {
        "colab": {
          "base_uri": "https://localhost:8080/"
        },
        "id": "pNRYZFNSacMo",
        "outputId": "3355c2c0-1eff-43c8-ed96-0bcc2fdd5f83"
      },
      "source": [
        "#SAHAM ACES\n",
        "import csv\n",
        "import pandas as pd\n",
        "\n",
        "df_Aces = pd.read_csv(r'/content/drive/MyDrive/saham/ACES.JK.csv')\n",
        "ARB_Aces = (df_Aces['Low']-df_Aces['Open'])/df_Aces['Open']\n",
        "ARA_Aces = (df_Aces['High']-df_Aces['Open'])/df_Aces['Open']\n",
        "shmAces = {'Date' : df_Aces['Date'],\n",
        "          'Open' : df_Aces['Open'],\n",
        "          'High' : df_Aces['High'],\n",
        "          'Low'  : df_Aces['Low'],\n",
        "          'ARA'  : ARA_Aces,\n",
        "          'ARB'  : ARB_Aces,\n",
        "          }\n",
        "\n",
        "df_baru_Aces = pd.DataFrame(shmAces, columns= ['Date','Open', 'High', 'Low','ARA','ARB'])\n",
        "shmARB_Aces = df_baru_Aces.loc[df_baru_Aces['ARB'] < -0.06]\n",
        "shmARA_Aces = df_baru_Aces.loc[df_baru_Aces['ARA'] > 0.2]\n",
        "print('-'*20)\n",
        "print('Saham yang menyentuh upper limit')\n",
        "print(shmARA_Aces)\n",
        "print('-'*20)\n",
        "print('Saham yang menyentuh lower limit')\n",
        "print(shmARB_Aces)"
      ],
      "execution_count": null,
      "outputs": [
        {
          "output_type": "stream",
          "text": [
            "--------------------\n",
            "Saham yang menyentuh upper limit\n",
            "         Date    Open    High     Low       ARA       ARB\n",
            "8  2020-03-26  1100.0  1340.0  1095.0  0.218182 -0.004545\n",
            "--------------------\n",
            "Saham yang menyentuh lower limit\n",
            "           Date    Open    High     Low       ARA       ARB\n",
            "4    2020-03-19  1215.0  1215.0  1140.0  0.000000 -0.061728\n",
            "6    2020-03-23  1115.0  1115.0  1040.0  0.000000 -0.067265\n",
            "7    2020-03-24  1040.0  1110.0   970.0  0.067308 -0.067308\n",
            "10   2020-03-30  1310.0  1325.0  1230.0  0.011450 -0.061069\n",
            "13   2020-04-02  1300.0  1300.0  1210.0  0.000000 -0.069231\n",
            "17   2020-04-08  1320.0  1320.0  1235.0  0.000000 -0.064394\n",
            "18   2020-04-09  1225.0  1260.0  1150.0  0.028571 -0.061224\n",
            "25   2020-04-21  1310.0  1310.0  1230.0  0.000000 -0.061069\n",
            "30   2020-04-28  1515.0  1515.0  1390.0  0.000000 -0.082508\n",
            "33   2020-05-04  1525.0  1525.0  1415.0  0.000000 -0.072131\n",
            "39   2020-05-13  1350.0  1350.0  1260.0  0.000000 -0.066667\n",
            "42   2020-05-18  1355.0  1355.0  1270.0  0.000000 -0.062731\n",
            "92   2020-08-03  1750.0  1760.0  1630.0  0.005714 -0.068571\n",
            "109  2020-08-31  1600.0  1620.0  1500.0  0.012500 -0.062500\n",
            "210  2021-01-29  1645.0  1655.0  1535.0  0.006079 -0.066869\n"
          ],
          "name": "stdout"
        }
      ]
    },
    {
      "cell_type": "code",
      "metadata": {
        "colab": {
          "base_uri": "https://localhost:8080/"
        },
        "id": "zbKPhZT2yuGp",
        "outputId": "54a28771-9518-4be9-deca-8a5915341bde"
      },
      "source": [
        "#SAHAM ADRO\n",
        "import csv\n",
        "import pandas as pd\n",
        "\n",
        "df_adro = pd.read_csv(r'/content/drive/MyDrive/saham/ADRO.JK.csv')\n",
        "ARBadro = (df_adro['Low']-df_adro['Open'])/df_adro['Open']\n",
        "ARAadro = (df_adro['High']-df_adro['Open'])/df_adro['Open']\n",
        "shmadro = {'Date' : df_adro['Date'],\n",
        "          'Open' : df_adro['Open'],\n",
        "          'High' : df_adro['High'],\n",
        "          'Low'  : df_adro['Low'],\n",
        "          'ARA'  : ARAadro,\n",
        "          'ARB'  : ARBadro,\n",
        "          }\n",
        "\n",
        "df_baruadro = pd.DataFrame(shmadro, columns= ['Date','Open', 'High', 'Low','ARA','ARB'])\n",
        "shmARBadro = df_baruadro.loc[df_baruadro['ARB'] < -0.06]\n",
        "shmARAadro = df_baruadro.loc[df_baruadro['ARA'] > 0.2]\n",
        "print('-'*20)\n",
        "print('Saham yang menyentuh upper limit')\n",
        "print(shmARAadro)\n",
        "print('-'*20)\n",
        "print('Saham yang menyentuh lower limit')\n",
        "print(shmARBadro)"
      ],
      "execution_count": null,
      "outputs": [
        {
          "output_type": "stream",
          "text": [
            "--------------------\n",
            "Saham yang menyentuh upper limit\n",
            "Empty DataFrame\n",
            "Columns: [Date, Open, High, Low, ARA, ARB]\n",
            "Index: []\n",
            "--------------------\n",
            "Saham yang menyentuh lower limit\n",
            "           Date    Open    High     Low       ARA       ARB\n",
            "34   2020-08-03  1090.0  1095.0  1010.0  0.004587 -0.073394\n",
            "51   2020-08-31  1160.0  1165.0  1085.0  0.004310 -0.064655\n",
            "113  2020-11-30  1400.0  1475.0  1295.0  0.053571 -0.075000\n",
            "125  2020-12-17  1555.0  1555.0  1455.0  0.000000 -0.064309\n",
            "129  2020-12-23  1500.0  1540.0  1400.0  0.026667 -0.066667\n",
            "148  2021-01-25  1350.0  1350.0  1260.0  0.000000 -0.066667\n"
          ],
          "name": "stdout"
        }
      ]
    },
    {
      "cell_type": "code",
      "metadata": {
        "colab": {
          "base_uri": "https://localhost:8080/"
        },
        "id": "vVYLF2a0zQGP",
        "outputId": "e4f7f41e-3a75-4072-cb52-acd6ace1161f"
      },
      "source": [
        "#SAHAM ASII\n",
        "import csv\n",
        "import pandas as pd\n",
        "\n",
        "df_asii = pd.read_csv(r'/content/drive/MyDrive/saham/ASII.JK.csv')\n",
        "ARBasii = (df_asii['Low']-df_asii['Open'])/df_asii['Open']\n",
        "ARAasii = (df_asii['High']-df_asii['Open'])/df_asii['Open']\n",
        "shmasii = {'Date' : df_asii['Date'],\n",
        "          'Open' : df_asii['Open'],\n",
        "          'High' : df_asii['High'],\n",
        "          'Low'  : df_asii['Low'],\n",
        "          'ARA'  : ARAasii,\n",
        "          'ARB'  : ARBasii,\n",
        "          }\n",
        "\n",
        "df_baruasii = pd.DataFrame(shmasii, columns= ['Date','Open', 'High', 'Low','ARA','ARB'])\n",
        "shmARBasii = df_baruasii.loc[df_baruasii['ARB'] < -0.06]\n",
        "shmARAasii = df_baruasii.loc[df_baruasii['ARA'] > 0.2]\n",
        "print('-'*20)\n",
        "print('Saham yang menyentuh upper limit')\n",
        "print(shmARAasii)\n",
        "print('-'*20)\n",
        "print('Saham yang menyentuh lower limit')\n",
        "print(shmARBasii)"
      ],
      "execution_count": null,
      "outputs": [
        {
          "output_type": "stream",
          "text": [
            "--------------------\n",
            "Saham yang menyentuh upper limit\n",
            "Empty DataFrame\n",
            "Columns: [Date, Open, High, Low, ARA, ARB]\n",
            "Index: []\n",
            "--------------------\n",
            "Saham yang menyentuh lower limit\n",
            "           Date    Open    High     Low       ARA       ARB\n",
            "2    2020-03-17  4590.0  4600.0  4270.0  0.002179 -0.069717\n",
            "3    2020-03-18  4290.0  4350.0  3980.0  0.013986 -0.072261\n",
            "5    2020-03-20  3890.0  3900.0  3590.0  0.002571 -0.077121\n",
            "6    2020-03-23  3780.0  3780.0  3520.0  0.000000 -0.068783\n",
            "7    2020-03-24  3570.0  3610.0  3280.0  0.011204 -0.081232\n",
            "10   2020-03-30  4080.0  4080.0  3800.0  0.000000 -0.068627\n",
            "55   2020-06-10  5025.0  5025.0  4650.0  0.000000 -0.074627\n",
            "171  2020-11-30  5550.0  5575.0  5200.0  0.004505 -0.063063\n"
          ],
          "name": "stdout"
        }
      ]
    },
    {
      "cell_type": "code",
      "metadata": {
        "colab": {
          "base_uri": "https://localhost:8080/"
        },
        "id": "wSY59QoOYUFg",
        "outputId": "0d996920-ba70-4596-d7f6-0158dcc65aea"
      },
      "source": [
        "#SAHAM ANTM\n",
        "import csv\n",
        "import pandas as pd\n",
        "\n",
        "df_antm = pd.read_csv(r'/content/drive/MyDrive/saham/ANTM.JK.csv')\n",
        "ARBantm = (df_antm['Low']-df_antm['Open'])/df_antm['Open']\n",
        "ARAantm = (df_antm['High']-df_antm['Open'])/df_antm['Open']\n",
        "shmantm = {'Date' : df_antm['Date'],\n",
        "          'Open' : df_antm['Open'],\n",
        "          'High' : df_antm['High'],\n",
        "          'Low'  : df_antm['Low'],\n",
        "          'ARA'  : ARAantm,\n",
        "          'ARB'  : ARBantm,\n",
        "          }\n",
        "\n",
        "df_baruantm = pd.DataFrame(shmantm, columns= ['Date','Open', 'High', 'Low','ARA','ARB'])\n",
        "shmARBAntm = df_baruantm.loc[df_baruantm['ARB'] < -0.06]\n",
        "shmARAAntm = df_baruantm.loc[df_baruantm['ARA'] > 0.2]\n",
        "print('-'*20)\n",
        "print('Saham yang menyentuh upper limit')\n",
        "print(shmARAAntm)\n",
        "print('-'*20)\n",
        "print('Saham yang menyentuh lower limit')\n",
        "print(shmARBAntm)"
      ],
      "execution_count": null,
      "outputs": [
        {
          "output_type": "stream",
          "text": [
            "--------------------\n",
            "Saham yang menyentuh upper limit\n",
            "           Date    Open    High     Low       ARA       ARB\n",
            "141  2020-10-14   775.0   955.0   775.0  0.232258  0.000000\n",
            "182  2020-12-16  1595.0  1925.0  1590.0  0.206897 -0.003135\n",
            "194  2021-01-07  2250.0  2740.0  2240.0  0.217778 -0.004444\n",
            "203  2021-01-20  2540.0  3200.0  2530.0  0.259843 -0.003937\n",
            "211  2021-02-01  2090.0  2640.0  2070.0  0.263158 -0.009569\n",
            "--------------------\n",
            "Saham yang menyentuh lower limit\n",
            "           Date    Open    High     Low       ARA       ARB\n",
            "2    2020-03-17   446.0   446.0   416.0  0.000000 -0.067265\n",
            "5    2020-03-20   360.0   386.0   338.0  0.072222 -0.061111\n",
            "16   2020-04-07   580.0   590.0   520.0  0.017241 -0.103448\n",
            "17   2020-04-08   555.0   555.0   520.0  0.000000 -0.063063\n",
            "21   2020-04-15   560.0   565.0   525.0  0.008929 -0.062500\n",
            "22   2020-04-16   535.0   535.0   494.0  0.000000 -0.076636\n",
            "92   2020-08-03   740.0   750.0   680.0  0.013514 -0.081081\n",
            "142  2020-10-15  1020.0  1180.0   920.0  0.156863 -0.098039\n",
            "171  2020-11-30  1225.0  1225.0  1145.0  0.000000 -0.065306\n",
            "186  2020-12-22  1950.0  1960.0  1830.0  0.005128 -0.061538\n",
            "187  2020-12-23  1830.0  1850.0  1720.0  0.010929 -0.060109\n",
            "193  2021-01-06  2270.0  2290.0  2130.0  0.008811 -0.061674\n",
            "200  2021-01-15  3300.0  3380.0  3040.0  0.024242 -0.078788\n",
            "204  2021-01-21  3290.0  3340.0  3030.0  0.015198 -0.079027\n",
            "205  2021-01-22  3090.0  3090.0  2880.0  0.000000 -0.067961\n",
            "207  2021-01-26  2900.0  2930.0  2670.0  0.010345 -0.079310\n",
            "210  2021-01-29  2370.0  2440.0  2220.0  0.029536 -0.063291\n",
            "212  2021-02-02  2600.0  2630.0  2420.0  0.011538 -0.069231\n",
            "217  2021-02-09  2850.0  2860.0  2640.0  0.003509 -0.073684\n",
            "235  2021-03-08  2490.0  2500.0  2270.0  0.004016 -0.088353\n"
          ],
          "name": "stdout"
        }
      ]
    },
    {
      "cell_type": "code",
      "metadata": {
        "colab": {
          "base_uri": "https://localhost:8080/"
        },
        "id": "r1xUQ_cw2ALG",
        "outputId": "7f857077-c8c7-432a-f889-0ca9b42ab7ef"
      },
      "source": [
        "#SAHAM BBNI\n",
        "import csv\n",
        "import pandas as pd\n",
        "\n",
        "df_bni = pd.read_csv(r'/content/drive/MyDrive/saham/BBNI.JK.csv')\n",
        "ARB_bni = (df_bni['Low']-df_bni['Open'])/df_bni['Open']\n",
        "ARA_bni = (df_bni['High']-df_bni['Open'])/df_bni['Open']\n",
        "shmbni = {'Date' : df_bni['Date'],\n",
        "          'Open' : df_bni['Open'],\n",
        "          'High' : df_bni['High'],\n",
        "          'Low'  : df_bni['Low'],\n",
        "          'ARA'  : ARA_bni,\n",
        "          'ARB'  : ARB_bni,\n",
        "          }\n",
        "\n",
        "df_baru_bni = pd.DataFrame(shmbni, columns= ['Date','Open', 'High', 'Low','ARA','ARB'])\n",
        "shmARB_bni = df_baru_bni.loc[df_baru_bni['ARB'] < -0.06]\n",
        "shmARA_bni = df_baru_bni.loc[df_baru_bni['ARA'] > 0.2]\n",
        "print('-'*20)\n",
        "print('Saham yang menyentuh upper limit')\n",
        "print(shmARA_bni)\n",
        "print('-'*20)\n",
        "print('Saham yang menyentuh lower limit')\n",
        "print(shmARB_bni)"
      ],
      "execution_count": null,
      "outputs": [
        {
          "output_type": "stream",
          "text": [
            "--------------------\n",
            "Saham yang menyentuh upper limit\n",
            "Empty DataFrame\n",
            "Columns: [Date, Open, High, Low, ARA, ARB]\n",
            "Index: []\n",
            "--------------------\n",
            "Saham yang menyentuh lower limit\n",
            "           Date    Open    High     Low       ARA       ARB\n",
            "2    2020-03-17  4830.0  4840.0  4510.0  0.002070 -0.066253\n",
            "3    2020-03-18  4590.0  4590.0  4200.0  0.000000 -0.084967\n",
            "8    2020-03-26  3160.0  3690.0  2970.0  0.167722 -0.060127\n",
            "10   2020-03-30  3960.0  3960.0  3720.0  0.000000 -0.060606\n",
            "16   2020-04-07  4490.0  4650.0  4120.0  0.035635 -0.082405\n",
            "41   2020-05-15  3570.0  3590.0  3300.0  0.005602 -0.075630\n",
            "55   2020-06-10  4850.0  4850.0  4520.0  0.000000 -0.068041\n",
            "56   2020-06-11  4510.0  4510.0  4210.0  0.000000 -0.066519\n",
            "57   2020-06-12  4210.0  4470.0  3940.0  0.061758 -0.064133\n",
            "58   2020-06-15  4480.0  4500.0  4180.0  0.004464 -0.066964\n",
            "92   2020-08-03  4650.0  4650.0  4300.0  0.000000 -0.075269\n",
            "171  2020-11-30  6350.0  6350.0  5950.0  0.000000 -0.062992\n",
            "210  2021-01-29  5800.0  5975.0  5450.0  0.030172 -0.060345\n"
          ],
          "name": "stdout"
        }
      ]
    },
    {
      "cell_type": "code",
      "metadata": {
        "colab": {
          "base_uri": "https://localhost:8080/"
        },
        "id": "V1O84Ibv2Bc_",
        "outputId": "57d6f929-78da-4648-f0b2-2ba5ca3a5e7f"
      },
      "source": [
        "#SAHAM BBRI\n",
        "import csv\n",
        "import pandas as pd\n",
        "\n",
        "df_bri = pd.read_csv(r'/content/drive/MyDrive/saham/BBRI.JK.csv')\n",
        "ARB_bri = (df_bri['Low']-df_bri['Open'])/df_bri['Open']\n",
        "ARA_bri = (df_bri['High']-df_bri['Open'])/df_bri['Open']\n",
        "shmbri = {'Date' : df_bri['Date'],\n",
        "          'Open' : df_bri['Open'],\n",
        "          'High' : df_bri['High'],\n",
        "          'Low'  : df_bri['Low'],\n",
        "          'ARA'  : ARA_bri,\n",
        "          'ARB'  : ARB_bri,\n",
        "          }\n",
        "\n",
        "df_baru_bri = pd.DataFrame(shmbri, columns= ['Date','Open', 'High', 'Low','ARA','ARB'])\n",
        "shmARB_bri = df_baru_bri.loc[df_baru_bri['ARB'] < -0.06]\n",
        "shmARA_bri = df_baru_bri.loc[df_baru_bri['ARA'] > 0.2]\n",
        "print('-'*20)\n",
        "print('Saham yang menyentuh upper limit')\n",
        "print(shmARA_bri)\n",
        "print('-'*20)\n",
        "print('Saham yang menyentuh lower limit')\n",
        "print(shmARB_bri)"
      ],
      "execution_count": null,
      "outputs": [
        {
          "output_type": "stream",
          "text": [
            "--------------------\n",
            "Saham yang menyentuh upper limit\n",
            "         Date    Open    High     Low       ARA  ARB\n",
            "9  2020-03-27  3000.0  3670.0  3000.0  0.223333  0.0\n",
            "--------------------\n",
            "Saham yang menyentuh lower limit\n",
            "           Date    Open    High     Low       ARA       ARB\n",
            "0    2020-03-13  3610.0  3770.0  3360.0  0.044321 -0.069252\n",
            "1    2020-03-16  3750.0  3750.0  3460.0  0.000000 -0.077333\n",
            "2    2020-03-17  3500.0  3570.0  3260.0  0.020000 -0.068571\n",
            "4    2020-03-19  3130.0  3140.0  2930.0  0.003195 -0.063898\n",
            "5    2020-03-20  2930.0  2970.0  2730.0  0.013652 -0.068259\n",
            "22   2020-04-16  2770.0  2770.0  2580.0  0.000000 -0.068592\n",
            "28   2020-04-24  2800.0  2800.0  2630.0  0.000000 -0.060714\n",
            "41   2020-05-15  2380.0  2400.0  2210.0  0.008403 -0.071429\n",
            "56   2020-06-11  3130.0  3130.0  2900.0  0.000000 -0.073482\n",
            "92   2020-08-03  3170.0  3180.0  2970.0  0.003155 -0.063091\n",
            "171  2020-11-30  4250.0  4280.0  3990.0  0.007059 -0.061176\n",
            "210  2021-01-29  4570.0  4610.0  4180.0  0.008753 -0.085339\n"
          ],
          "name": "stdout"
        }
      ]
    },
    {
      "cell_type": "code",
      "metadata": {
        "colab": {
          "base_uri": "https://localhost:8080/"
        },
        "id": "KXgRGG8p6BYX",
        "outputId": "60f3934e-c646-4c14-d0dc-76b3d7fc7d6f"
      },
      "source": [
        "#SAHAM BMRI\n",
        "import csv\n",
        "import pandas as pd\n",
        "\n",
        "df_mandiri = pd.read_csv(r'/content/drive/MyDrive/saham/BMRI.JK.csv')\n",
        "ARB_mandiri = (df_mandiri['Low']-df_mandiri['Open'])/df_mandiri['Open']\n",
        "ARA_mandiri = (df_mandiri['High']-df_mandiri['Open'])/df_mandiri['Open']\n",
        "shmmandiri = {'Date' : df_mandiri['Date'],\n",
        "          'Open' : df_mandiri['Open'],\n",
        "          'High' : df_mandiri['High'],\n",
        "          'Low'  : df_mandiri['Low'],\n",
        "          'ARA'  : ARA_mandiri,\n",
        "          'ARB'  : ARB_mandiri,\n",
        "          }\n",
        "\n",
        "df_baru_mandiri = pd.DataFrame(shmbri, columns= ['Date','Open', 'High', 'Low','ARA','ARB'])\n",
        "shmARB_mandiri = df_baru_mandiri.loc[df_baru_mandiri['ARB'] < -0.06]\n",
        "shmARA_mandiri = df_baru_mandiri.loc[df_baru_mandiri['ARA'] > 0.2]\n",
        "print('-'*20)\n",
        "print('Saham yang menyentuh upper limit')\n",
        "print(shmARA_mandiri)\n",
        "print('-'*20)\n",
        "print('Saham yang menyentuh lower limit')\n",
        "print(shmARB_mandiri)"
      ],
      "execution_count": null,
      "outputs": [
        {
          "output_type": "stream",
          "text": [
            "--------------------\n",
            "Saham yang menyentuh upper limit\n",
            "         Date    Open    High     Low       ARA  ARB\n",
            "9  2020-03-27  3000.0  3670.0  3000.0  0.223333  0.0\n",
            "--------------------\n",
            "Saham yang menyentuh lower limit\n",
            "           Date    Open    High     Low       ARA       ARB\n",
            "0    2020-03-13  3610.0  3770.0  3360.0  0.044321 -0.069252\n",
            "1    2020-03-16  3750.0  3750.0  3460.0  0.000000 -0.077333\n",
            "2    2020-03-17  3500.0  3570.0  3260.0  0.020000 -0.068571\n",
            "4    2020-03-19  3130.0  3140.0  2930.0  0.003195 -0.063898\n",
            "5    2020-03-20  2930.0  2970.0  2730.0  0.013652 -0.068259\n",
            "22   2020-04-16  2770.0  2770.0  2580.0  0.000000 -0.068592\n",
            "28   2020-04-24  2800.0  2800.0  2630.0  0.000000 -0.060714\n",
            "41   2020-05-15  2380.0  2400.0  2210.0  0.008403 -0.071429\n",
            "56   2020-06-11  3130.0  3130.0  2900.0  0.000000 -0.073482\n",
            "92   2020-08-03  3170.0  3180.0  2970.0  0.003155 -0.063091\n",
            "171  2020-11-30  4250.0  4280.0  3990.0  0.007059 -0.061176\n",
            "210  2021-01-29  4570.0  4610.0  4180.0  0.008753 -0.085339\n"
          ],
          "name": "stdout"
        }
      ]
    },
    {
      "cell_type": "code",
      "metadata": {
        "colab": {
          "base_uri": "https://localhost:8080/"
        },
        "id": "O4OuixY93YVo",
        "outputId": "e5349d49-3015-4c82-a7bb-cd6897b5cdee"
      },
      "source": [
        "#SAHAM BBTN\n",
        "import csv\n",
        "import pandas as pd\n",
        "\n",
        "df_btn = pd.read_csv(r'/content/drive/MyDrive/saham/BBTN.JK.csv')\n",
        "ARB_btn = (df_btn['Low']-df_btn['Open'])/df_btn['Open']\n",
        "ARA_btn = (df_btn['High']-df_btn['Open'])/df_btn['Open']\n",
        "shmbtn = {'Date' : df_btn['Date'],\n",
        "          'Open' : df_btn['Open'],\n",
        "          'High' : df_btn['High'],\n",
        "          'Low'  : df_btn['Low'],\n",
        "          'ARA'  : ARA_btn,\n",
        "          'ARB'  : ARB_btn,\n",
        "          }\n",
        "\n",
        "df_baru_btn = pd.DataFrame(shmbtn, columns= ['Date','Open', 'High', 'Low','ARA','ARB'])\n",
        "shmARB_btn = df_baru_btn.loc[df_baru_btn['ARB'] < -0.06]\n",
        "shmARA_btn = df_baru_btn.loc[df_baru_btn['ARA'] > 0.2]\n",
        "print('-'*20)\n",
        "print('Saham yang menyentuh upper limit')\n",
        "print(shmARA_btn)\n",
        "print('-'*20)\n",
        "print('Saham yang menyentuh lower limit')\n",
        "print(shmARB_btn)"
      ],
      "execution_count": null,
      "outputs": [
        {
          "output_type": "stream",
          "text": [
            "--------------------\n",
            "Saham yang menyentuh upper limit\n",
            "          Date   Open   High    Low       ARA       ARB\n",
            "49  2020-06-02  770.0  940.0  760.0  0.220779 -0.012987\n",
            "--------------------\n",
            "Saham yang menyentuh lower limit\n",
            "           Date    Open    High     Low       ARA       ARB\n",
            "0    2020-03-13  1300.0  1390.0  1215.0  0.069231 -0.065385\n",
            "7    2020-03-24   900.0   935.0   820.0  0.038889 -0.088889\n",
            "10   2020-03-30   890.0   890.0   830.0  0.000000 -0.067416\n",
            "16   2020-04-07  1045.0  1100.0   975.0  0.052632 -0.066986\n",
            "17   2020-04-08  1040.0  1040.0   940.0  0.000000 -0.096154\n",
            "18   2020-04-09   985.0   985.0   910.0  0.000000 -0.076142\n",
            "28   2020-04-24   880.0   880.0   825.0  0.000000 -0.062500\n",
            "39   2020-05-13   825.0   825.0   770.0  0.000000 -0.066667\n",
            "48   2020-05-29   810.0   810.0   760.0  0.000000 -0.061728\n",
            "55   2020-06-10  1165.0  1200.0  1090.0  0.030043 -0.064378\n",
            "56   2020-06-11  1095.0  1120.0  1015.0  0.022831 -0.073059\n",
            "92   2020-08-03  1275.0  1280.0  1180.0  0.003922 -0.074510\n",
            "171  2020-11-30  1755.0  1755.0  1620.0  0.000000 -0.076923\n",
            "186  2020-12-22  2000.0  2000.0  1860.0  0.000000 -0.070000\n",
            "187  2020-12-23  1875.0  1900.0  1735.0  0.013333 -0.074667\n",
            "207  2021-01-26  1780.0  1795.0  1670.0  0.008427 -0.061798\n",
            "210  2021-01-29  1640.0  1670.0  1515.0  0.018293 -0.076220\n",
            "236  2021-03-09  2150.0  2150.0  2000.0  0.000000 -0.069767\n"
          ],
          "name": "stdout"
        }
      ]
    },
    {
      "cell_type": "code",
      "metadata": {
        "colab": {
          "base_uri": "https://localhost:8080/"
        },
        "id": "dT894L-A6FEV",
        "outputId": "3db1930c-ea5f-4b31-f6df-db0f14a485ce"
      },
      "source": [
        "#SAHAM BRPT\n",
        "import csv\n",
        "import pandas as pd\n",
        "\n",
        "df_brpt = pd.read_csv(r'/content/drive/MyDrive/saham/BRPT.JK.csv')\n",
        "ARB_brpt = (df_brpt['Low']-df_brpt['Open'])/df_brpt['Open']\n",
        "ARA_brpt = (df_brpt['High']-df_brpt['Open'])/df_brpt['Open']\n",
        "shmbrpt = {'Date' : df_brpt['Date'],\n",
        "          'Open' : df_brpt['Open'],\n",
        "          'High' : df_brpt['High'],\n",
        "          'Low'  : df_brpt['Low'],\n",
        "          'ARA'  : ARA_brpt,\n",
        "          'ARB'  : ARB_brpt,\n",
        "          }\n",
        "\n",
        "df_baru_brpt = pd.DataFrame(shmbrpt, columns= ['Date','Open', 'High', 'Low','ARA','ARB'])\n",
        "shmARB_brpt = df_baru_brpt.loc[df_baru_brpt['ARB'] < -0.06]\n",
        "shmARA_brpt = df_baru_brpt.loc[df_baru_brpt['ARA'] > 0.2]\n",
        "print('-'*20)\n",
        "print('Saham yang menyentuh upper limit')\n",
        "print(shmARA_brpt)\n",
        "print('-'*20)\n",
        "print('Saham yang menyentuh lower limit')\n",
        "print(shmARB_brpt)"
      ],
      "execution_count": null,
      "outputs": [
        {
          "output_type": "stream",
          "text": [
            "--------------------\n",
            "Saham yang menyentuh upper limit\n",
            "          Date    Open    High     Low       ARA       ARB\n",
            "5   2020-03-20   464.0   580.0   464.0  0.250000  0.000000\n",
            "8   2020-03-26   456.0   565.0   426.0  0.239035 -0.065789\n",
            "11  2020-03-31   600.0   750.0   600.0  0.250000  0.000000\n",
            "26  2020-04-22  1015.0  1265.0  1000.0  0.246305 -0.014778\n",
            "--------------------\n",
            "Saham yang menyentuh lower limit\n",
            "           Date    Open    High     Low       ARA       ARB\n",
            "1    2020-03-16   675.0   675.0   610.0  0.000000 -0.096296\n",
            "2    2020-03-17   610.0   610.0   570.0  0.000000 -0.065574\n",
            "3    2020-03-18   570.0   570.0   535.0  0.000000 -0.061404\n",
            "7    2020-03-24   510.0   510.0   456.0  0.000000 -0.105882\n",
            "8    2020-03-26   456.0   565.0   426.0  0.239035 -0.065789\n",
            "10   2020-03-30   620.0   620.0   580.0  0.000000 -0.064516\n",
            "33   2020-05-04  1450.0  1450.0  1355.0  0.000000 -0.065517\n",
            "35   2020-05-06  1385.0  1390.0  1285.0  0.003610 -0.072202\n",
            "36   2020-05-08  1285.0  1335.0  1200.0  0.038911 -0.066148\n",
            "54   2020-06-09  1320.0  1330.0  1225.0  0.007576 -0.071970\n",
            "61   2020-06-18  1210.0  1215.0  1130.0  0.004132 -0.066116\n",
            "92   2020-08-03   950.0   980.0   885.0  0.031579 -0.068421\n",
            "93   2020-08-04   930.0   935.0   860.0  0.005376 -0.075269\n",
            "113  2020-09-04   820.0   820.0   770.0  0.000000 -0.060976\n",
            "118  2020-09-11   740.0   750.0   695.0  0.013514 -0.060811\n",
            "124  2020-09-21   735.0   740.0   685.0  0.006803 -0.068027\n",
            "171  2020-11-30  1115.0  1125.0  1040.0  0.008969 -0.067265\n",
            "190  2020-12-30  1140.0  1155.0  1065.0  0.013158 -0.065789\n",
            "193  2021-01-06  1165.0  1175.0  1090.0  0.008584 -0.064378\n",
            "201  2021-01-18  1140.0  1170.0  1065.0  0.026316 -0.065789\n",
            "202  2021-01-19  1075.0  1105.0  1000.0  0.027907 -0.069767\n",
            "205  2021-01-22  1075.0  1085.0  1005.0  0.009302 -0.065116\n",
            "208  2021-01-27  1060.0  1060.0   990.0  0.000000 -0.066038\n",
            "210  2021-01-29   960.0   965.0   870.0  0.005208 -0.093750\n",
            "213  2021-02-03  1150.0  1165.0  1065.0  0.013043 -0.073913\n",
            "222  2021-02-17  1160.0  1175.0  1080.0  0.012931 -0.068966\n"
          ],
          "name": "stdout"
        }
      ]
    },
    {
      "cell_type": "code",
      "metadata": {
        "colab": {
          "base_uri": "https://localhost:8080/"
        },
        "id": "JxzotPtx8Hb_",
        "outputId": "c700f2b9-3cb9-4670-93c2-d77921c28e07"
      },
      "source": [
        "#SAHAM CPIN\n",
        "import csv\n",
        "import pandas as pd\n",
        "\n",
        "df_cpin = pd.read_csv(r'/content/drive/MyDrive/saham/CPIN.JK.csv')\n",
        "ARB_cpin = (df_cpin['Low']-df_cpin['Open'])/df_cpin['Open']\n",
        "ARA_cpin = (df_cpin['High']-df_cpin['Open'])/df_cpin['Open']\n",
        "shmcpin = {'Date' : df_cpin['Date'],\n",
        "          'Open' : df_cpin['Open'],\n",
        "          'High' : df_cpin['High'],\n",
        "          'Low'  : df_cpin['Low'],\n",
        "          'ARA'  : ARA_cpin,\n",
        "          'ARB'  : ARB_cpin,\n",
        "          }\n",
        "\n",
        "df_baru_cpin = pd.DataFrame(shmcpin, columns= ['Date','Open', 'High', 'Low','ARA','ARB'])\n",
        "shmARB_cpin = df_baru_cpin.loc[df_baru_cpin['ARB'] < -0.06]\n",
        "shmARA_cpin = df_baru_cpin.loc[df_baru_cpin['ARA'] > 0.2]\n",
        "print('-'*20)\n",
        "print('Saham yang menyentuh upper limit')\n",
        "print(shmARA_cpin)\n",
        "print('-'*20)\n",
        "print('Saham yang menyentuh lower limit')\n",
        "print(shmARB_cpin)"
      ],
      "execution_count": null,
      "outputs": [
        {
          "output_type": "stream",
          "text": [
            "--------------------\n",
            "Saham yang menyentuh upper limit\n",
            "Empty DataFrame\n",
            "Columns: [Date, Open, High, Low, ARA, ARB]\n",
            "Index: []\n",
            "--------------------\n",
            "Saham yang menyentuh lower limit\n",
            "           Date    Open    High     Low       ARA       ARB\n",
            "2    2020-03-17  5175.0  5175.0  4820.0  0.000000 -0.068599\n",
            "3    2020-03-18  4820.0  4900.0  4490.0  0.016598 -0.068465\n",
            "4    2020-03-19  4450.0  4450.0  4180.0  0.000000 -0.060674\n",
            "5    2020-03-20  4180.0  4400.0  3890.0  0.052632 -0.069378\n",
            "10   2020-03-30  4910.0  4920.0  4570.0  0.002037 -0.069246\n",
            "17   2020-04-08  4880.0  4880.0  4540.0  0.000000 -0.069672\n",
            "18   2020-04-09  4600.0  4600.0  4280.0  0.000000 -0.069565\n",
            "22   2020-04-16  4430.0  4430.0  4140.0  0.000000 -0.065463\n",
            "33   2020-05-04  4590.0  4590.0  4300.0  0.000000 -0.063181\n",
            "55   2020-06-10  5875.0  5900.0  5500.0  0.004255 -0.063830\n",
            "61   2020-06-18  5925.0  5925.0  5550.0  0.000000 -0.063291\n",
            "171  2020-11-30  6500.0  6550.0  6050.0  0.007692 -0.069231\n"
          ],
          "name": "stdout"
        }
      ]
    },
    {
      "cell_type": "code",
      "metadata": {
        "colab": {
          "base_uri": "https://localhost:8080/"
        },
        "id": "u3rp9Ipn8rNW",
        "outputId": "e16de5f0-cc74-42e1-8129-7370193d2095"
      },
      "source": [
        "#SAHAM ERAA\n",
        "import csv\n",
        "import pandas as pd\n",
        "\n",
        "df_eraa = pd.read_csv(r'/content/drive/MyDrive/saham/ERAA.JK.csv')\n",
        "ARB_eraa = (df_eraa['Low']-df_eraa['Open'])/df_eraa['Open']\n",
        "ARA_eraa = (df_eraa['High']-df_eraa['Open'])/df_eraa['Open']\n",
        "shmeraa = {'Date' : df_eraa['Date'],\n",
        "          'Open' : df_eraa['Open'],\n",
        "          'High' : df_eraa['High'],\n",
        "          'Low'  : df_eraa['Low'],\n",
        "          'ARA'  : ARA_eraa,\n",
        "          'ARB'  : ARB_eraa,\n",
        "          }\n",
        "\n",
        "df_baru_eraa = pd.DataFrame(shmeraa, columns= ['Date','Open', 'High', 'Low','ARA','ARB'])\n",
        "shmARB_eraa = df_baru_eraa.loc[df_baru_eraa['ARB'] < -0.06]\n",
        "shmARA_eraa = df_baru_eraa.loc[df_baru_eraa['ARA'] > 0.2]\n",
        "print('-'*20)\n",
        "print('Saham yang menyentuh upper limit')\n",
        "print(shmARA_eraa)\n",
        "print('-'*20)\n",
        "print('Saham yang menyentuh lower limit')\n",
        "print(shmARB_eraa)"
      ],
      "execution_count": null,
      "outputs": [
        {
          "output_type": "stream",
          "text": [
            "--------------------\n",
            "Saham yang menyentuh upper limit\n",
            "Empty DataFrame\n",
            "Columns: [Date, Open, High, Low, ARA, ARB]\n",
            "Index: []\n",
            "--------------------\n",
            "Saham yang menyentuh lower limit\n",
            "           Date   Open   High    Low       ARA       ARB\n",
            "0    2020-03-13  252.0  284.0  235.0  0.126984 -0.067460\n",
            "1    2020-03-16  276.0  277.0  258.0  0.003623 -0.065217\n",
            "6    2020-03-23  198.0  198.0  186.0  0.000000 -0.060606\n",
            "7    2020-03-24  186.0  187.0  173.0  0.005376 -0.069892\n",
            "8    2020-03-26  173.0  187.0  161.0  0.080925 -0.069364\n",
            "9    2020-03-27  186.0  208.0  171.0  0.118280 -0.080645\n",
            "10   2020-03-30  180.0  180.0  168.0  0.000000 -0.066667\n",
            "12   2020-04-01  190.0  203.0  174.0  0.068421 -0.084211\n",
            "16   2020-04-07  206.0  247.0  192.0  0.199029 -0.067961\n",
            "17   2020-04-08  243.0  252.0  226.0  0.037037 -0.069959\n",
            "21   2020-04-15  244.0  246.0  225.0  0.008197 -0.077869\n",
            "24   2020-04-20  252.0  255.0  235.0  0.011905 -0.067460\n",
            "54   2020-06-09  278.0  280.0  259.0  0.007194 -0.068345\n",
            "92   2020-08-03  297.0  303.0  274.0  0.020202 -0.077441\n",
            "99   2020-08-12  345.0  346.0  324.0  0.002899 -0.060870\n",
            "171  2020-11-30  357.0  359.0  333.0  0.005602 -0.067227\n",
            "186  2020-12-22  436.0  444.0  406.0  0.018349 -0.068807\n",
            "187  2020-12-23  406.0  432.0  378.0  0.064039 -0.068966\n",
            "189  2020-12-29  478.0  478.0  448.0  0.000000 -0.062762\n"
          ],
          "name": "stdout"
        }
      ]
    },
    {
      "cell_type": "code",
      "metadata": {
        "colab": {
          "base_uri": "https://localhost:8080/"
        },
        "id": "spbdfqYJ9GXv",
        "outputId": "1fc245a1-f55b-4600-a7aa-15b0bc845a99"
      },
      "source": [
        "#SAHAM GGRM\n",
        "import csv\n",
        "import pandas as pd\n",
        "\n",
        "df_ggrm = pd.read_csv(r'/content/drive/MyDrive/saham/GGRM.JK.csv')\n",
        "ARB_ggrm = (df_ggrm['Low']-df_ggrm['Open'])/df_ggrm['Open']\n",
        "ARA_ggrm = (df_ggrm['High']-df_ggrm['Open'])/df_ggrm['Open']\n",
        "shmggrm = {'Date' : df_ggrm['Date'],\n",
        "          'Open' : df_ggrm['Open'],\n",
        "          'High' : df_ggrm['High'],\n",
        "          'Low'  : df_ggrm['Low'],\n",
        "          'ARA'  : ARA_ggrm,\n",
        "          'ARB'  : ARB_ggrm,\n",
        "          }\n",
        "\n",
        "df_baru_ggrm = pd.DataFrame(shmggrm, columns= ['Date','Open', 'High', 'Low','ARA','ARB'])\n",
        "shmARB_ggrm = df_baru_ggrm.loc[df_baru_ggrm['ARB'] < -0.06]\n",
        "shmARA_ggrm = df_baru_ggrm.loc[df_baru_ggrm['ARA'] > 0.2]\n",
        "print('-'*20)\n",
        "print('Saham yang menyentuh upper limit')\n",
        "print(shmARA_ggrm)\n",
        "print('-'*20)\n",
        "print('Saham yang menyentuh lower limit')\n",
        "print(shmARB_ggrm)"
      ],
      "execution_count": null,
      "outputs": [
        {
          "output_type": "stream",
          "text": [
            "--------------------\n",
            "Saham yang menyentuh upper limit\n",
            "Empty DataFrame\n",
            "Columns: [Date, Open, High, Low, ARA, ARB]\n",
            "Index: []\n",
            "--------------------\n",
            "Saham yang menyentuh lower limit\n",
            "           Date     Open     High      Low       ARA       ARB\n",
            "1    2020-03-16  41600.0  41600.0  38700.0  0.000000 -0.069712\n",
            "2    2020-03-17  39175.0  39175.0  36450.0  0.000000 -0.069560\n",
            "3    2020-03-18  36450.0  36850.0  33900.0  0.010974 -0.069959\n",
            "5    2020-03-20  32900.0  39475.0  30625.0  0.199848 -0.069149\n",
            "6    2020-03-23  39450.0  39475.0  36725.0  0.000634 -0.069075\n",
            "10   2020-03-30  43975.0  44000.0  40925.0  0.000569 -0.069358\n",
            "17   2020-04-08  48150.0  48150.0  44850.0  0.000000 -0.068536\n",
            "22   2020-04-16  47600.0  47600.0  44300.0  0.000000 -0.069328\n",
            "108  2020-08-28  51900.0  52875.0  48525.0  0.018786 -0.065029\n",
            "117  2020-09-10  45550.0  45550.0  42500.0  0.000000 -0.066959\n",
            "178  2020-12-10  48000.0  49975.0  44275.0  0.041146 -0.077604\n"
          ],
          "name": "stdout"
        }
      ]
    },
    {
      "cell_type": "code",
      "metadata": {
        "colab": {
          "base_uri": "https://localhost:8080/"
        },
        "id": "GDxM8uDH9sl3",
        "outputId": "33d100c8-5e2d-4ccb-f3ce-63be8f7fd9f5"
      },
      "source": [
        "#SAHAM HMSP\n",
        "import csv\n",
        "import pandas as pd\n",
        "\n",
        "df_hmsp = pd.read_csv(r'/content/drive/MyDrive/saham/HMSP.JK.csv')\n",
        "ARB_hmsp = (df_hmsp['Low']-df_hmsp['Open'])/df_hmsp['Open']\n",
        "ARA_hmsp = (df_hmsp['High']-df_hmsp['Open'])/df_hmsp['Open']\n",
        "shmhmsp = {'Date' : df_hmsp['Date'],\n",
        "          'Open' : df_hmsp['Open'],\n",
        "          'High' : df_hmsp['High'],\n",
        "          'Low'  : df_hmsp['Low'],\n",
        "          'ARA'  : ARA_hmsp,\n",
        "          'ARB'  : ARB_hmsp,\n",
        "          }\n",
        "\n",
        "df_baru_hmsp = pd.DataFrame(shmhmsp, columns= ['Date','Open', 'High', 'Low','ARA','ARB'])\n",
        "shmARB_hmsp = df_baru_hmsp.loc[df_baru_hmsp['ARB'] < -0.06]\n",
        "shmARA_hmsp = df_baru_hmsp.loc[df_baru_hmsp['ARA'] > 0.2]\n",
        "print('-'*20)\n",
        "print('Saham yang menyentuh upper limit')\n",
        "print(shmARA_hmsp)\n",
        "print('-'*20)\n",
        "print('Saham yang menyentuh lower limit')\n",
        "print(shmARB_hmsp)"
      ],
      "execution_count": null,
      "outputs": [
        {
          "output_type": "stream",
          "text": [
            "--------------------\n",
            "Saham yang menyentuh upper limit\n",
            "Empty DataFrame\n",
            "Columns: [Date, Open, High, Low, ARA, ARB]\n",
            "Index: []\n",
            "--------------------\n",
            "Saham yang menyentuh lower limit\n",
            "           Date    Open    High     Low       ARA       ARB\n",
            "1    2020-03-16  1510.0  1510.0  1405.0  0.000000 -0.069536\n",
            "2    2020-03-17  1405.0  1425.0  1310.0  0.014235 -0.067616\n",
            "3    2020-03-18  1320.0  1340.0  1230.0  0.015152 -0.068182\n",
            "5    2020-03-20  1190.0  1360.0  1085.0  0.142857 -0.088235\n",
            "7    2020-03-24  1270.0  1320.0  1170.0  0.039370 -0.078740\n",
            "16   2020-04-07  1805.0  1850.0  1660.0  0.024931 -0.080332\n",
            "17   2020-04-08  1705.0  1705.0  1590.0  0.000000 -0.067449\n",
            "21   2020-04-15  1695.0  1700.0  1585.0  0.002950 -0.064897\n",
            "92   2020-08-03  1705.0  1725.0  1590.0  0.011730 -0.067449\n",
            "178  2020-12-10  1805.0  1915.0  1670.0  0.060942 -0.074792\n"
          ],
          "name": "stdout"
        }
      ]
    },
    {
      "cell_type": "code",
      "metadata": {
        "colab": {
          "base_uri": "https://localhost:8080/"
        },
        "id": "FFHMBkSO-PKe",
        "outputId": "d6fb9aed-9de0-4c3f-bec6-9b91468083e7"
      },
      "source": [
        "#SAHAM ICBP\n",
        "import csv\n",
        "import pandas as pd\n",
        "\n",
        "df_icbp = pd.read_csv(r'/content/drive/MyDrive/saham/ICBP.JK.csv')\n",
        "ARB_icbp = (df_icbp['Low']-df_icbp['Open'])/df_icbp['Open']\n",
        "ARA_icbp = (df_icbp['High']-df_icbp['Open'])/df_icbp['Open']\n",
        "shmicbp = {'Date' : df_icbp['Date'],\n",
        "          'Open' : df_icbp['Open'],\n",
        "          'High' : df_icbp['High'],\n",
        "          'Low'  : df_icbp['Low'],\n",
        "          'ARA'  : ARA_icbp,\n",
        "          'ARB'  : ARB_icbp,\n",
        "          }\n",
        "\n",
        "df_baru_icbp = pd.DataFrame(shmicbp, columns= ['Date','Open', 'High', 'Low','ARA','ARB'])\n",
        "shmARB_icbp = df_baru_icbp.loc[df_baru_icbp['ARB'] < -0.06]\n",
        "shmARA_icbp = df_baru_icbp.loc[df_baru_icbp['ARA'] > 0.2]\n",
        "print('-'*20)\n",
        "print('Saham yang menyentuh upper limit')\n",
        "print(shmARA_icbp)\n",
        "print('-'*20)\n",
        "print('Saham yang menyentuh lower limit')\n",
        "print(shmARB_icbp)"
      ],
      "execution_count": null,
      "outputs": [
        {
          "output_type": "stream",
          "text": [
            "--------------------\n",
            "Saham yang menyentuh upper limit\n",
            "Empty DataFrame\n",
            "Columns: [Date, Open, High, Low, ARA, ARB]\n",
            "Index: []\n",
            "--------------------\n",
            "Saham yang menyentuh lower limit\n",
            "           Date     Open     High     Low       ARA       ARB\n",
            "0    2020-03-13  10525.0  11100.0  9800.0  0.054632 -0.068884\n",
            "2    2020-03-17  10400.0  10500.0  9700.0  0.009615 -0.067308\n",
            "3    2020-03-18   9875.0   9950.0  9075.0  0.007595 -0.081013\n",
            "5    2020-03-20   9000.0   9700.0  8300.0  0.077778 -0.077778\n",
            "6    2020-03-23   8950.0   8950.0  8350.0  0.000000 -0.067039\n",
            "10   2020-03-30   9950.0  10100.0  9300.0  0.015075 -0.065327\n",
            "45   2020-05-26   9600.0   9600.0  8950.0  0.000000 -0.067708\n",
            "117  2020-09-10  10225.0  10225.0  9600.0  0.000000 -0.061125\n",
            "171  2020-11-30  10600.0  10625.0  9900.0  0.002358 -0.066038\n"
          ],
          "name": "stdout"
        }
      ]
    }
  ]
}